{
 "cells": [
  {
   "cell_type": "code",
   "execution_count": 1,
   "metadata": {},
   "outputs": [],
   "source": [
    "import pandas as pd\n",
    "import numpy as np"
   ]
  },
  {
   "cell_type": "code",
   "execution_count": null,
   "metadata": {},
   "outputs": [],
   "source": []
  },
  {
   "cell_type": "code",
   "execution_count": 2,
   "metadata": {},
   "outputs": [
    {
     "name": "stderr",
     "output_type": "stream",
     "text": [
      "C:\\Users\\Hardev\\Anaconda3\\lib\\site-packages\\sklearn\\externals\\six.py:31: DeprecationWarning: The module is deprecated in version 0.21 and will be removed in version 0.23 since we've dropped support for Python 2.7. Please rely on the official version of six (https://pypi.org/project/six/).\n",
      "  \"(https://pypi.org/project/six/).\", DeprecationWarning)\n"
     ]
    }
   ],
   "source": [
    "import numpy as np\n",
    "import pickle\n",
    "import matplotlib.pyplot as plt\n",
    "import seaborn as sns\n",
    "from sklearn.model_selection import train_test_split, GridSearchCV, validation_curve \n",
    "from sklearn import metrics\n",
    "from sklearn.metrics import (accuracy_score, roc_auc_score, confusion_matrix, roc_curve, auc, \n",
    "                             mean_squared_error, log_loss, precision_recall_curve, classification_report, \n",
    "                             precision_recall_fscore_support)\n",
    "from sklearn.linear_model import LogisticRegression\n",
    "from sklearn.naive_bayes import GaussianNB\n",
    "from sklearn.svm import SVC, LinearSVC\n",
    "from sklearn.tree import DecisionTreeClassifier, export_graphviz\n",
    "from sklearn.ensemble import RandomForestClassifier, GradientBoostingClassifier, VotingClassifier\n",
    "from xgboost.sklearn import XGBClassifier\n",
    "#import scikitplot as skplt\n",
    "#import lime \n",
    "#import lime.lime_tabular\n",
    "from sklearn.externals.six import StringIO  \n",
    "from IPython.display import Image  \n",
    "import pydotplus\n",
    "import os\n",
    "\n",
    "#Add Graphviz path to environment variable PATH, used for visualizing decision trees\n",
    "os.environ[\"PATH\"] += os.pathsep + 'C:/Program Files (x86)/Graphviz2.38/bin/'\n",
    "\n",
    "#Import supporting functions\n",
    "from calculate_model_metrics import lift_plot_model, plot_roc, plot_grid_search, evaluate_model\n",
    "\n",
    "import warnings\n",
    "warnings.filterwarnings(\"ignore\")"
   ]
  },
  {
   "cell_type": "code",
   "execution_count": null,
   "metadata": {},
   "outputs": [],
   "source": []
  },
  {
   "cell_type": "code",
   "execution_count": 3,
   "metadata": {},
   "outputs": [],
   "source": [
    "df_train = pd.read_csv(r'C:\\Users\\Hardev\\Desktop\\MyIITCourses\\CSP 571 Data Preparation and Analysis\\Project\\csp571_fp-master (2)\\csp571_fp-master\\data\\train_test\\primary\\train_relevant.csv')\n",
    "df_test = pd.read_csv(r'C:\\Users\\Hardev\\Desktop\\MyIITCourses\\CSP 571 Data Preparation and Analysis\\Project\\csp571_fp-master (2)\\csp571_fp-master\\data\\train_test\\primary\\test_relevant.csv')\n"
   ]
  },
  {
   "cell_type": "code",
   "execution_count": 4,
   "metadata": {},
   "outputs": [
    {
     "data": {
      "text/plain": [
       "(588, 31)"
      ]
     },
     "execution_count": 4,
     "metadata": {},
     "output_type": "execute_result"
    }
   ],
   "source": [
    "df_train.shape"
   ]
  },
  {
   "cell_type": "code",
   "execution_count": 5,
   "metadata": {},
   "outputs": [
    {
     "data": {
      "text/plain": [
       "(145, 31)"
      ]
     },
     "execution_count": 5,
     "metadata": {},
     "output_type": "execute_result"
    }
   ],
   "source": [
    "df_test.shape"
   ]
  },
  {
   "cell_type": "code",
   "execution_count": null,
   "metadata": {},
   "outputs": [],
   "source": []
  },
  {
   "cell_type": "code",
   "execution_count": 6,
   "metadata": {},
   "outputs": [
    {
     "data": {
      "text/html": [
       "<div>\n",
       "<style scoped>\n",
       "    .dataframe tbody tr th:only-of-type {\n",
       "        vertical-align: middle;\n",
       "    }\n",
       "\n",
       "    .dataframe tbody tr th {\n",
       "        vertical-align: top;\n",
       "    }\n",
       "\n",
       "    .dataframe thead th {\n",
       "        text-align: right;\n",
       "    }\n",
       "</style>\n",
       "<table border=\"1\" class=\"dataframe\">\n",
       "  <thead>\n",
       "    <tr style=\"text-align: right;\">\n",
       "      <th></th>\n",
       "      <th>name</th>\n",
       "      <th>year</th>\n",
       "      <th>salary</th>\n",
       "      <th>Pos</th>\n",
       "      <th>Age</th>\n",
       "      <th>Tm</th>\n",
       "      <th>GS</th>\n",
       "      <th>MP</th>\n",
       "      <th>PER</th>\n",
       "      <th>TS%</th>\n",
       "      <th>...</th>\n",
       "      <th>3P</th>\n",
       "      <th>3P%</th>\n",
       "      <th>2P</th>\n",
       "      <th>2P%</th>\n",
       "      <th>eFG%</th>\n",
       "      <th>FT</th>\n",
       "      <th>FT%</th>\n",
       "      <th>AST</th>\n",
       "      <th>PF</th>\n",
       "      <th>PTS</th>\n",
       "    </tr>\n",
       "  </thead>\n",
       "  <tbody>\n",
       "    <tr>\n",
       "      <td>0</td>\n",
       "      <td>aaron brooks</td>\n",
       "      <td>2016</td>\n",
       "      <td>2700000.0</td>\n",
       "      <td>PG</td>\n",
       "      <td>31</td>\n",
       "      <td>CHI</td>\n",
       "      <td>0</td>\n",
       "      <td>1108</td>\n",
       "      <td>11.8</td>\n",
       "      <td>0.494</td>\n",
       "      <td>...</td>\n",
       "      <td>66</td>\n",
       "      <td>0.357</td>\n",
       "      <td>122</td>\n",
       "      <td>0.430</td>\n",
       "      <td>0.471</td>\n",
       "      <td>49</td>\n",
       "      <td>0.766</td>\n",
       "      <td>180</td>\n",
       "      <td>132</td>\n",
       "      <td>491</td>\n",
       "    </tr>\n",
       "    <tr>\n",
       "      <td>1</td>\n",
       "      <td>aaron brooks</td>\n",
       "      <td>2017</td>\n",
       "      <td>2116955.0</td>\n",
       "      <td>PG</td>\n",
       "      <td>32</td>\n",
       "      <td>IND</td>\n",
       "      <td>0</td>\n",
       "      <td>894</td>\n",
       "      <td>9.5</td>\n",
       "      <td>0.507</td>\n",
       "      <td>...</td>\n",
       "      <td>48</td>\n",
       "      <td>0.375</td>\n",
       "      <td>73</td>\n",
       "      <td>0.424</td>\n",
       "      <td>0.483</td>\n",
       "      <td>32</td>\n",
       "      <td>0.800</td>\n",
       "      <td>125</td>\n",
       "      <td>93</td>\n",
       "      <td>322</td>\n",
       "    </tr>\n",
       "    <tr>\n",
       "      <td>2</td>\n",
       "      <td>aaron gordon</td>\n",
       "      <td>2016</td>\n",
       "      <td>4351320.0</td>\n",
       "      <td>PF</td>\n",
       "      <td>20</td>\n",
       "      <td>ORL</td>\n",
       "      <td>37</td>\n",
       "      <td>1863</td>\n",
       "      <td>17.0</td>\n",
       "      <td>0.541</td>\n",
       "      <td>...</td>\n",
       "      <td>42</td>\n",
       "      <td>0.296</td>\n",
       "      <td>232</td>\n",
       "      <td>0.531</td>\n",
       "      <td>0.509</td>\n",
       "      <td>129</td>\n",
       "      <td>0.668</td>\n",
       "      <td>128</td>\n",
       "      <td>153</td>\n",
       "      <td>719</td>\n",
       "    </tr>\n",
       "    <tr>\n",
       "      <td>3</td>\n",
       "      <td>aaron gordon</td>\n",
       "      <td>2017</td>\n",
       "      <td>5504420.0</td>\n",
       "      <td>SF</td>\n",
       "      <td>21</td>\n",
       "      <td>ORL</td>\n",
       "      <td>72</td>\n",
       "      <td>2298</td>\n",
       "      <td>14.4</td>\n",
       "      <td>0.530</td>\n",
       "      <td>...</td>\n",
       "      <td>77</td>\n",
       "      <td>0.288</td>\n",
       "      <td>316</td>\n",
       "      <td>0.528</td>\n",
       "      <td>0.499</td>\n",
       "      <td>156</td>\n",
       "      <td>0.719</td>\n",
       "      <td>150</td>\n",
       "      <td>172</td>\n",
       "      <td>1019</td>\n",
       "    </tr>\n",
       "    <tr>\n",
       "      <td>4</td>\n",
       "      <td>adreian payne</td>\n",
       "      <td>2016</td>\n",
       "      <td>2022240.0</td>\n",
       "      <td>PF</td>\n",
       "      <td>24</td>\n",
       "      <td>MIN</td>\n",
       "      <td>2</td>\n",
       "      <td>486</td>\n",
       "      <td>5.6</td>\n",
       "      <td>0.422</td>\n",
       "      <td>...</td>\n",
       "      <td>9</td>\n",
       "      <td>0.281</td>\n",
       "      <td>44</td>\n",
       "      <td>0.389</td>\n",
       "      <td>0.397</td>\n",
       "      <td>17</td>\n",
       "      <td>0.654</td>\n",
       "      <td>29</td>\n",
       "      <td>77</td>\n",
       "      <td>132</td>\n",
       "    </tr>\n",
       "  </tbody>\n",
       "</table>\n",
       "<p>5 rows × 31 columns</p>\n",
       "</div>"
      ],
      "text/plain": [
       "            name  year     salary Pos  Age   Tm  GS    MP   PER    TS%  ...  \\\n",
       "0   aaron brooks  2016  2700000.0  PG   31  CHI   0  1108  11.8  0.494  ...   \n",
       "1   aaron brooks  2017  2116955.0  PG   32  IND   0   894   9.5  0.507  ...   \n",
       "2   aaron gordon  2016  4351320.0  PF   20  ORL  37  1863  17.0  0.541  ...   \n",
       "3   aaron gordon  2017  5504420.0  SF   21  ORL  72  2298  14.4  0.530  ...   \n",
       "4  adreian payne  2016  2022240.0  PF   24  MIN   2   486   5.6  0.422  ...   \n",
       "\n",
       "   3P    3P%   2P    2P%   eFG%   FT    FT%  AST   PF   PTS  \n",
       "0  66  0.357  122  0.430  0.471   49  0.766  180  132   491  \n",
       "1  48  0.375   73  0.424  0.483   32  0.800  125   93   322  \n",
       "2  42  0.296  232  0.531  0.509  129  0.668  128  153   719  \n",
       "3  77  0.288  316  0.528  0.499  156  0.719  150  172  1019  \n",
       "4   9  0.281   44  0.389  0.397   17  0.654   29   77   132  \n",
       "\n",
       "[5 rows x 31 columns]"
      ]
     },
     "execution_count": 6,
     "metadata": {},
     "output_type": "execute_result"
    }
   ],
   "source": [
    "df_train.head()"
   ]
  },
  {
   "cell_type": "code",
   "execution_count": 7,
   "metadata": {},
   "outputs": [
    {
     "data": {
      "text/html": [
       "<div>\n",
       "<style scoped>\n",
       "    .dataframe tbody tr th:only-of-type {\n",
       "        vertical-align: middle;\n",
       "    }\n",
       "\n",
       "    .dataframe tbody tr th {\n",
       "        vertical-align: top;\n",
       "    }\n",
       "\n",
       "    .dataframe thead th {\n",
       "        text-align: right;\n",
       "    }\n",
       "</style>\n",
       "<table border=\"1\" class=\"dataframe\">\n",
       "  <thead>\n",
       "    <tr style=\"text-align: right;\">\n",
       "      <th></th>\n",
       "      <th>year</th>\n",
       "      <th>salary</th>\n",
       "      <th>Age</th>\n",
       "      <th>GS</th>\n",
       "      <th>MP</th>\n",
       "      <th>PER</th>\n",
       "      <th>TS%</th>\n",
       "      <th>TRB%</th>\n",
       "      <th>AST%</th>\n",
       "      <th>STL%</th>\n",
       "      <th>...</th>\n",
       "      <th>3P</th>\n",
       "      <th>3P%</th>\n",
       "      <th>2P</th>\n",
       "      <th>2P%</th>\n",
       "      <th>eFG%</th>\n",
       "      <th>FT</th>\n",
       "      <th>FT%</th>\n",
       "      <th>AST</th>\n",
       "      <th>PF</th>\n",
       "      <th>PTS</th>\n",
       "    </tr>\n",
       "  </thead>\n",
       "  <tbody>\n",
       "    <tr>\n",
       "      <td>count</td>\n",
       "      <td>588.000000</td>\n",
       "      <td>5.880000e+02</td>\n",
       "      <td>588.000000</td>\n",
       "      <td>588.000000</td>\n",
       "      <td>588.000000</td>\n",
       "      <td>588.000000</td>\n",
       "      <td>588.000000</td>\n",
       "      <td>588.000000</td>\n",
       "      <td>588.000000</td>\n",
       "      <td>588.000000</td>\n",
       "      <td>...</td>\n",
       "      <td>588.000000</td>\n",
       "      <td>588.000000</td>\n",
       "      <td>588.000000</td>\n",
       "      <td>588.000000</td>\n",
       "      <td>588.000000</td>\n",
       "      <td>588.000000</td>\n",
       "      <td>588.000000</td>\n",
       "      <td>588.000000</td>\n",
       "      <td>588.000000</td>\n",
       "      <td>588.000000</td>\n",
       "    </tr>\n",
       "    <tr>\n",
       "      <td>mean</td>\n",
       "      <td>2016.496599</td>\n",
       "      <td>7.908947e+06</td>\n",
       "      <td>26.464286</td>\n",
       "      <td>30.996599</td>\n",
       "      <td>1460.438776</td>\n",
       "      <td>14.194728</td>\n",
       "      <td>0.539469</td>\n",
       "      <td>10.394388</td>\n",
       "      <td>13.352551</td>\n",
       "      <td>1.581973</td>\n",
       "      <td>...</td>\n",
       "      <td>55.096939</td>\n",
       "      <td>0.303653</td>\n",
       "      <td>182.569728</td>\n",
       "      <td>0.489954</td>\n",
       "      <td>0.504836</td>\n",
       "      <td>110.534014</td>\n",
       "      <td>0.750140</td>\n",
       "      <td>135.715986</td>\n",
       "      <td>121.035714</td>\n",
       "      <td>640.964286</td>\n",
       "    </tr>\n",
       "    <tr>\n",
       "      <td>std</td>\n",
       "      <td>0.500414</td>\n",
       "      <td>7.332209e+06</td>\n",
       "      <td>4.342698</td>\n",
       "      <td>30.170215</td>\n",
       "      <td>795.765311</td>\n",
       "      <td>4.918587</td>\n",
       "      <td>0.062664</td>\n",
       "      <td>4.781098</td>\n",
       "      <td>9.078834</td>\n",
       "      <td>0.781394</td>\n",
       "      <td>...</td>\n",
       "      <td>56.033658</td>\n",
       "      <td>0.124061</td>\n",
       "      <td>142.634701</td>\n",
       "      <td>0.081152</td>\n",
       "      <td>0.067900</td>\n",
       "      <td>109.116885</td>\n",
       "      <td>0.118856</td>\n",
       "      <td>139.000432</td>\n",
       "      <td>61.888126</td>\n",
       "      <td>469.420891</td>\n",
       "    </tr>\n",
       "    <tr>\n",
       "      <td>min</td>\n",
       "      <td>2016.000000</td>\n",
       "      <td>1.722400e+04</td>\n",
       "      <td>19.000000</td>\n",
       "      <td>0.000000</td>\n",
       "      <td>6.000000</td>\n",
       "      <td>-2.100000</td>\n",
       "      <td>0.184000</td>\n",
       "      <td>0.000000</td>\n",
       "      <td>0.000000</td>\n",
       "      <td>0.000000</td>\n",
       "      <td>...</td>\n",
       "      <td>0.000000</td>\n",
       "      <td>0.000000</td>\n",
       "      <td>0.000000</td>\n",
       "      <td>0.000000</td>\n",
       "      <td>0.100000</td>\n",
       "      <td>0.000000</td>\n",
       "      <td>0.000000</td>\n",
       "      <td>0.000000</td>\n",
       "      <td>0.000000</td>\n",
       "      <td>0.000000</td>\n",
       "    </tr>\n",
       "    <tr>\n",
       "      <td>25%</td>\n",
       "      <td>2016.000000</td>\n",
       "      <td>2.116955e+06</td>\n",
       "      <td>23.000000</td>\n",
       "      <td>2.750000</td>\n",
       "      <td>823.000000</td>\n",
       "      <td>10.900000</td>\n",
       "      <td>0.510000</td>\n",
       "      <td>6.400000</td>\n",
       "      <td>7.200000</td>\n",
       "      <td>1.100000</td>\n",
       "      <td>...</td>\n",
       "      <td>4.000000</td>\n",
       "      <td>0.271142</td>\n",
       "      <td>72.750000</td>\n",
       "      <td>0.452000</td>\n",
       "      <td>0.473000</td>\n",
       "      <td>36.750000</td>\n",
       "      <td>0.695750</td>\n",
       "      <td>48.000000</td>\n",
       "      <td>77.000000</td>\n",
       "      <td>296.750000</td>\n",
       "    </tr>\n",
       "    <tr>\n",
       "      <td>50%</td>\n",
       "      <td>2016.000000</td>\n",
       "      <td>5.200000e+06</td>\n",
       "      <td>26.000000</td>\n",
       "      <td>18.500000</td>\n",
       "      <td>1481.500000</td>\n",
       "      <td>13.700000</td>\n",
       "      <td>0.541000</td>\n",
       "      <td>9.300000</td>\n",
       "      <td>10.450000</td>\n",
       "      <td>1.500000</td>\n",
       "      <td>...</td>\n",
       "      <td>42.000000</td>\n",
       "      <td>0.333000</td>\n",
       "      <td>153.000000</td>\n",
       "      <td>0.486500</td>\n",
       "      <td>0.506000</td>\n",
       "      <td>77.500000</td>\n",
       "      <td>0.768000</td>\n",
       "      <td>96.500000</td>\n",
       "      <td>125.000000</td>\n",
       "      <td>545.000000</td>\n",
       "    </tr>\n",
       "    <tr>\n",
       "      <td>75%</td>\n",
       "      <td>2017.000000</td>\n",
       "      <td>1.203230e+07</td>\n",
       "      <td>29.000000</td>\n",
       "      <td>62.250000</td>\n",
       "      <td>2099.750000</td>\n",
       "      <td>17.000000</td>\n",
       "      <td>0.573000</td>\n",
       "      <td>13.600000</td>\n",
       "      <td>17.300000</td>\n",
       "      <td>1.900000</td>\n",
       "      <td>...</td>\n",
       "      <td>91.000000</td>\n",
       "      <td>0.372000</td>\n",
       "      <td>259.500000</td>\n",
       "      <td>0.531250</td>\n",
       "      <td>0.537000</td>\n",
       "      <td>146.000000</td>\n",
       "      <td>0.829000</td>\n",
       "      <td>176.250000</td>\n",
       "      <td>165.000000</td>\n",
       "      <td>894.000000</td>\n",
       "    </tr>\n",
       "    <tr>\n",
       "      <td>max</td>\n",
       "      <td>2017.000000</td>\n",
       "      <td>3.468255e+07</td>\n",
       "      <td>40.000000</td>\n",
       "      <td>82.000000</td>\n",
       "      <td>3125.000000</td>\n",
       "      <td>32.000000</td>\n",
       "      <td>1.000000</td>\n",
       "      <td>25.600000</td>\n",
       "      <td>52.700000</td>\n",
       "      <td>10.300000</td>\n",
       "      <td>...</td>\n",
       "      <td>324.000000</td>\n",
       "      <td>1.000000</td>\n",
       "      <td>730.000000</td>\n",
       "      <td>1.000000</td>\n",
       "      <td>1.000000</td>\n",
       "      <td>746.000000</td>\n",
       "      <td>1.000000</td>\n",
       "      <td>906.000000</td>\n",
       "      <td>278.000000</td>\n",
       "      <td>2376.000000</td>\n",
       "    </tr>\n",
       "  </tbody>\n",
       "</table>\n",
       "<p>8 rows × 28 columns</p>\n",
       "</div>"
      ],
      "text/plain": [
       "              year        salary         Age          GS           MP  \\\n",
       "count   588.000000  5.880000e+02  588.000000  588.000000   588.000000   \n",
       "mean   2016.496599  7.908947e+06   26.464286   30.996599  1460.438776   \n",
       "std       0.500414  7.332209e+06    4.342698   30.170215   795.765311   \n",
       "min    2016.000000  1.722400e+04   19.000000    0.000000     6.000000   \n",
       "25%    2016.000000  2.116955e+06   23.000000    2.750000   823.000000   \n",
       "50%    2016.000000  5.200000e+06   26.000000   18.500000  1481.500000   \n",
       "75%    2017.000000  1.203230e+07   29.000000   62.250000  2099.750000   \n",
       "max    2017.000000  3.468255e+07   40.000000   82.000000  3125.000000   \n",
       "\n",
       "              PER         TS%        TRB%        AST%        STL%  ...  \\\n",
       "count  588.000000  588.000000  588.000000  588.000000  588.000000  ...   \n",
       "mean    14.194728    0.539469   10.394388   13.352551    1.581973  ...   \n",
       "std      4.918587    0.062664    4.781098    9.078834    0.781394  ...   \n",
       "min     -2.100000    0.184000    0.000000    0.000000    0.000000  ...   \n",
       "25%     10.900000    0.510000    6.400000    7.200000    1.100000  ...   \n",
       "50%     13.700000    0.541000    9.300000   10.450000    1.500000  ...   \n",
       "75%     17.000000    0.573000   13.600000   17.300000    1.900000  ...   \n",
       "max     32.000000    1.000000   25.600000   52.700000   10.300000  ...   \n",
       "\n",
       "               3P         3P%          2P         2P%        eFG%          FT  \\\n",
       "count  588.000000  588.000000  588.000000  588.000000  588.000000  588.000000   \n",
       "mean    55.096939    0.303653  182.569728    0.489954    0.504836  110.534014   \n",
       "std     56.033658    0.124061  142.634701    0.081152    0.067900  109.116885   \n",
       "min      0.000000    0.000000    0.000000    0.000000    0.100000    0.000000   \n",
       "25%      4.000000    0.271142   72.750000    0.452000    0.473000   36.750000   \n",
       "50%     42.000000    0.333000  153.000000    0.486500    0.506000   77.500000   \n",
       "75%     91.000000    0.372000  259.500000    0.531250    0.537000  146.000000   \n",
       "max    324.000000    1.000000  730.000000    1.000000    1.000000  746.000000   \n",
       "\n",
       "              FT%         AST          PF          PTS  \n",
       "count  588.000000  588.000000  588.000000   588.000000  \n",
       "mean     0.750140  135.715986  121.035714   640.964286  \n",
       "std      0.118856  139.000432   61.888126   469.420891  \n",
       "min      0.000000    0.000000    0.000000     0.000000  \n",
       "25%      0.695750   48.000000   77.000000   296.750000  \n",
       "50%      0.768000   96.500000  125.000000   545.000000  \n",
       "75%      0.829000  176.250000  165.000000   894.000000  \n",
       "max      1.000000  906.000000  278.000000  2376.000000  \n",
       "\n",
       "[8 rows x 28 columns]"
      ]
     },
     "execution_count": 7,
     "metadata": {},
     "output_type": "execute_result"
    }
   ],
   "source": [
    "df_train.describe()"
   ]
  },
  {
   "cell_type": "code",
   "execution_count": 8,
   "metadata": {},
   "outputs": [],
   "source": [
    "df_all = pd.concat([df_train, df_test], axis = 0)"
   ]
  },
  {
   "cell_type": "code",
   "execution_count": 9,
   "metadata": {},
   "outputs": [
    {
     "data": {
      "text/plain": [
       "(733, 31)"
      ]
     },
     "execution_count": 9,
     "metadata": {},
     "output_type": "execute_result"
    }
   ],
   "source": [
    "df_all.shape"
   ]
  },
  {
   "cell_type": "code",
   "execution_count": 10,
   "metadata": {},
   "outputs": [
    {
     "data": {
      "text/plain": [
       "(588, 31)"
      ]
     },
     "execution_count": 10,
     "metadata": {},
     "output_type": "execute_result"
    }
   ],
   "source": [
    "df_train.shape"
   ]
  },
  {
   "cell_type": "code",
   "execution_count": 11,
   "metadata": {},
   "outputs": [
    {
     "data": {
      "text/plain": [
       "(145, 31)"
      ]
     },
     "execution_count": 11,
     "metadata": {},
     "output_type": "execute_result"
    }
   ],
   "source": [
    "df_test.shape"
   ]
  },
  {
   "cell_type": "code",
   "execution_count": null,
   "metadata": {},
   "outputs": [],
   "source": []
  },
  {
   "cell_type": "code",
   "execution_count": 12,
   "metadata": {},
   "outputs": [
    {
     "data": {
      "text/plain": [
       "(0, 2)"
      ]
     },
     "execution_count": 12,
     "metadata": {},
     "output_type": "execute_result"
    }
   ],
   "source": [
    "total = df_all.isnull().sum().sort_values(ascending = False)\n",
    "percent = (df_all.isnull().sum()/df_all.isnull().count()*100).sort_values(ascending = False)\n",
    "missing_train_data  = pd.concat([total, percent], axis=1, keys=['Total', 'Percent'])\n",
    "missing_train_data[missing_train_data['Percent']>0].shape"
   ]
  },
  {
   "cell_type": "code",
   "execution_count": 13,
   "metadata": {},
   "outputs": [],
   "source": [
    "columns_list = df_all.columns.tolist()"
   ]
  },
  {
   "cell_type": "code",
   "execution_count": null,
   "metadata": {},
   "outputs": [],
   "source": []
  },
  {
   "cell_type": "code",
   "execution_count": 14,
   "metadata": {},
   "outputs": [],
   "source": [
    "var_model_all = ['salary',\t'Pos',\t'Age',\t'Tm',\t'GS',\t'MP',\t'PER',\t'TS%',\t'TRB%',\t'AST%',\t'STL%',\t'BLK%',\t'TOV%',\t'USG%',\t'WS',\t'BPM',\t'VORP',\t'FG',\t'FG%',\t'3P',\t'3P%',\t'2P',\t'2P%',\t'eFG%',\t'FT',\t'FT%',\t'AST',\t'PF',\t'PTS']"
   ]
  },
  {
   "cell_type": "code",
   "execution_count": 15,
   "metadata": {},
   "outputs": [],
   "source": [
    "var_input = ['Pos',\t'Age',\t'Tm',\t'GS',\t'MP',\t'PER',\t'TS%',\t'TRB%',\t'AST%',\t'STL%',\t'BLK%',\t'TOV%',\t'USG%',\t'WS',\t'BPM',\t'VORP',\t'FG',\t'FG%',\t'3P',\t'3P%',\t'2P',\t'2P%',\t'eFG%',\t'FT',\t'FT%',\t'AST',\t'PF',\t'PTS']"
   ]
  },
  {
   "cell_type": "code",
   "execution_count": 16,
   "metadata": {},
   "outputs": [],
   "source": [
    "var_output = ['salary']"
   ]
  },
  {
   "cell_type": "code",
   "execution_count": null,
   "metadata": {},
   "outputs": [],
   "source": []
  },
  {
   "cell_type": "code",
   "execution_count": null,
   "metadata": {},
   "outputs": [],
   "source": []
  },
  {
   "cell_type": "code",
   "execution_count": null,
   "metadata": {},
   "outputs": [],
   "source": []
  },
  {
   "cell_type": "code",
   "execution_count": 17,
   "metadata": {},
   "outputs": [],
   "source": [
    "from sklearn.ensemble import RandomForestClassifier, GradientBoostingClassifier, VotingClassifier\n",
    "from sklearn.ensemble import RandomForestRegressor, GradientBoostingRegressor\n",
    "from xgboost.sklearn import XGBClassifier"
   ]
  },
  {
   "cell_type": "code",
   "execution_count": null,
   "metadata": {},
   "outputs": [],
   "source": []
  },
  {
   "cell_type": "code",
   "execution_count": null,
   "metadata": {},
   "outputs": [],
   "source": []
  },
  {
   "cell_type": "code",
   "execution_count": 18,
   "metadata": {},
   "outputs": [],
   "source": [
    "df_train_model = df_train[var_model_all]\n",
    "df_test_model = df_test[var_model_all]"
   ]
  },
  {
   "cell_type": "code",
   "execution_count": 19,
   "metadata": {},
   "outputs": [],
   "source": [
    "X_train = df_train_model[var_input]\n",
    "X_test = df_test_model[var_input]\n",
    "\n",
    "Y_train = df_train_model[var_output]\n",
    "Y_test = df_test_model[var_output]"
   ]
  },
  {
   "cell_type": "code",
   "execution_count": 20,
   "metadata": {},
   "outputs": [
    {
     "data": {
      "text/html": [
       "<div>\n",
       "<style scoped>\n",
       "    .dataframe tbody tr th:only-of-type {\n",
       "        vertical-align: middle;\n",
       "    }\n",
       "\n",
       "    .dataframe tbody tr th {\n",
       "        vertical-align: top;\n",
       "    }\n",
       "\n",
       "    .dataframe thead th {\n",
       "        text-align: right;\n",
       "    }\n",
       "</style>\n",
       "<table border=\"1\" class=\"dataframe\">\n",
       "  <thead>\n",
       "    <tr style=\"text-align: right;\">\n",
       "      <th></th>\n",
       "      <th>Pos</th>\n",
       "      <th>Age</th>\n",
       "      <th>Tm</th>\n",
       "      <th>GS</th>\n",
       "      <th>MP</th>\n",
       "      <th>PER</th>\n",
       "      <th>TS%</th>\n",
       "      <th>TRB%</th>\n",
       "      <th>AST%</th>\n",
       "      <th>STL%</th>\n",
       "      <th>...</th>\n",
       "      <th>3P</th>\n",
       "      <th>3P%</th>\n",
       "      <th>2P</th>\n",
       "      <th>2P%</th>\n",
       "      <th>eFG%</th>\n",
       "      <th>FT</th>\n",
       "      <th>FT%</th>\n",
       "      <th>AST</th>\n",
       "      <th>PF</th>\n",
       "      <th>PTS</th>\n",
       "    </tr>\n",
       "  </thead>\n",
       "  <tbody>\n",
       "    <tr>\n",
       "      <td>0</td>\n",
       "      <td>PG</td>\n",
       "      <td>31</td>\n",
       "      <td>CHI</td>\n",
       "      <td>0</td>\n",
       "      <td>1108</td>\n",
       "      <td>11.8</td>\n",
       "      <td>0.494</td>\n",
       "      <td>4.8</td>\n",
       "      <td>26.0</td>\n",
       "      <td>1.4</td>\n",
       "      <td>...</td>\n",
       "      <td>66</td>\n",
       "      <td>0.357</td>\n",
       "      <td>122</td>\n",
       "      <td>0.430</td>\n",
       "      <td>0.471</td>\n",
       "      <td>49</td>\n",
       "      <td>0.766</td>\n",
       "      <td>180</td>\n",
       "      <td>132</td>\n",
       "      <td>491</td>\n",
       "    </tr>\n",
       "    <tr>\n",
       "      <td>1</td>\n",
       "      <td>PG</td>\n",
       "      <td>32</td>\n",
       "      <td>IND</td>\n",
       "      <td>0</td>\n",
       "      <td>894</td>\n",
       "      <td>9.5</td>\n",
       "      <td>0.507</td>\n",
       "      <td>4.3</td>\n",
       "      <td>20.7</td>\n",
       "      <td>1.4</td>\n",
       "      <td>...</td>\n",
       "      <td>48</td>\n",
       "      <td>0.375</td>\n",
       "      <td>73</td>\n",
       "      <td>0.424</td>\n",
       "      <td>0.483</td>\n",
       "      <td>32</td>\n",
       "      <td>0.800</td>\n",
       "      <td>125</td>\n",
       "      <td>93</td>\n",
       "      <td>322</td>\n",
       "    </tr>\n",
       "    <tr>\n",
       "      <td>2</td>\n",
       "      <td>PF</td>\n",
       "      <td>20</td>\n",
       "      <td>ORL</td>\n",
       "      <td>37</td>\n",
       "      <td>1863</td>\n",
       "      <td>17.0</td>\n",
       "      <td>0.541</td>\n",
       "      <td>15.1</td>\n",
       "      <td>10.3</td>\n",
       "      <td>1.6</td>\n",
       "      <td>...</td>\n",
       "      <td>42</td>\n",
       "      <td>0.296</td>\n",
       "      <td>232</td>\n",
       "      <td>0.531</td>\n",
       "      <td>0.509</td>\n",
       "      <td>129</td>\n",
       "      <td>0.668</td>\n",
       "      <td>128</td>\n",
       "      <td>153</td>\n",
       "      <td>719</td>\n",
       "    </tr>\n",
       "    <tr>\n",
       "      <td>3</td>\n",
       "      <td>SF</td>\n",
       "      <td>21</td>\n",
       "      <td>ORL</td>\n",
       "      <td>72</td>\n",
       "      <td>2298</td>\n",
       "      <td>14.4</td>\n",
       "      <td>0.530</td>\n",
       "      <td>9.6</td>\n",
       "      <td>10.5</td>\n",
       "      <td>1.4</td>\n",
       "      <td>...</td>\n",
       "      <td>77</td>\n",
       "      <td>0.288</td>\n",
       "      <td>316</td>\n",
       "      <td>0.528</td>\n",
       "      <td>0.499</td>\n",
       "      <td>156</td>\n",
       "      <td>0.719</td>\n",
       "      <td>150</td>\n",
       "      <td>172</td>\n",
       "      <td>1019</td>\n",
       "    </tr>\n",
       "    <tr>\n",
       "      <td>4</td>\n",
       "      <td>PF</td>\n",
       "      <td>24</td>\n",
       "      <td>MIN</td>\n",
       "      <td>2</td>\n",
       "      <td>486</td>\n",
       "      <td>5.6</td>\n",
       "      <td>0.422</td>\n",
       "      <td>13.3</td>\n",
       "      <td>8.9</td>\n",
       "      <td>1.7</td>\n",
       "      <td>...</td>\n",
       "      <td>9</td>\n",
       "      <td>0.281</td>\n",
       "      <td>44</td>\n",
       "      <td>0.389</td>\n",
       "      <td>0.397</td>\n",
       "      <td>17</td>\n",
       "      <td>0.654</td>\n",
       "      <td>29</td>\n",
       "      <td>77</td>\n",
       "      <td>132</td>\n",
       "    </tr>\n",
       "  </tbody>\n",
       "</table>\n",
       "<p>5 rows × 28 columns</p>\n",
       "</div>"
      ],
      "text/plain": [
       "  Pos  Age   Tm  GS    MP   PER    TS%  TRB%  AST%  STL%  ...  3P    3P%   2P  \\\n",
       "0  PG   31  CHI   0  1108  11.8  0.494   4.8  26.0   1.4  ...  66  0.357  122   \n",
       "1  PG   32  IND   0   894   9.5  0.507   4.3  20.7   1.4  ...  48  0.375   73   \n",
       "2  PF   20  ORL  37  1863  17.0  0.541  15.1  10.3   1.6  ...  42  0.296  232   \n",
       "3  SF   21  ORL  72  2298  14.4  0.530   9.6  10.5   1.4  ...  77  0.288  316   \n",
       "4  PF   24  MIN   2   486   5.6  0.422  13.3   8.9   1.7  ...   9  0.281   44   \n",
       "\n",
       "     2P%   eFG%   FT    FT%  AST   PF   PTS  \n",
       "0  0.430  0.471   49  0.766  180  132   491  \n",
       "1  0.424  0.483   32  0.800  125   93   322  \n",
       "2  0.531  0.509  129  0.668  128  153   719  \n",
       "3  0.528  0.499  156  0.719  150  172  1019  \n",
       "4  0.389  0.397   17  0.654   29   77   132  \n",
       "\n",
       "[5 rows x 28 columns]"
      ]
     },
     "execution_count": 20,
     "metadata": {},
     "output_type": "execute_result"
    }
   ],
   "source": [
    "X_train.head()"
   ]
  },
  {
   "cell_type": "code",
   "execution_count": null,
   "metadata": {},
   "outputs": [],
   "source": []
  },
  {
   "cell_type": "code",
   "execution_count": 21,
   "metadata": {},
   "outputs": [],
   "source": [
    "X_train = pd.get_dummies(X_train, drop_first=True)\n",
    "X_test = pd.get_dummies(X_test, drop_first=True)"
   ]
  },
  {
   "cell_type": "code",
   "execution_count": 22,
   "metadata": {},
   "outputs": [],
   "source": [
    "X_test = pd.get_dummies(X_test, drop_first=True)"
   ]
  },
  {
   "cell_type": "code",
   "execution_count": null,
   "metadata": {},
   "outputs": [],
   "source": []
  },
  {
   "cell_type": "code",
   "execution_count": 23,
   "metadata": {},
   "outputs": [
    {
     "data": {
      "text/html": [
       "<div>\n",
       "<style scoped>\n",
       "    .dataframe tbody tr th:only-of-type {\n",
       "        vertical-align: middle;\n",
       "    }\n",
       "\n",
       "    .dataframe tbody tr th {\n",
       "        vertical-align: top;\n",
       "    }\n",
       "\n",
       "    .dataframe thead th {\n",
       "        text-align: right;\n",
       "    }\n",
       "</style>\n",
       "<table border=\"1\" class=\"dataframe\">\n",
       "  <thead>\n",
       "    <tr style=\"text-align: right;\">\n",
       "      <th></th>\n",
       "      <th>Age</th>\n",
       "      <th>GS</th>\n",
       "      <th>MP</th>\n",
       "      <th>PER</th>\n",
       "      <th>TS%</th>\n",
       "      <th>TRB%</th>\n",
       "      <th>AST%</th>\n",
       "      <th>STL%</th>\n",
       "      <th>BLK%</th>\n",
       "      <th>TOV%</th>\n",
       "      <th>...</th>\n",
       "      <th>Tm_ORL</th>\n",
       "      <th>Tm_PHI</th>\n",
       "      <th>Tm_PHO</th>\n",
       "      <th>Tm_POR</th>\n",
       "      <th>Tm_SAC</th>\n",
       "      <th>Tm_SAS</th>\n",
       "      <th>Tm_TOR</th>\n",
       "      <th>Tm_TOT</th>\n",
       "      <th>Tm_UTA</th>\n",
       "      <th>Tm_WAS</th>\n",
       "    </tr>\n",
       "  </thead>\n",
       "  <tbody>\n",
       "    <tr>\n",
       "      <td>0</td>\n",
       "      <td>25</td>\n",
       "      <td>82</td>\n",
       "      <td>2341</td>\n",
       "      <td>12.7</td>\n",
       "      <td>0.533</td>\n",
       "      <td>11.5</td>\n",
       "      <td>8.8</td>\n",
       "      <td>1.5</td>\n",
       "      <td>1.8</td>\n",
       "      <td>13.2</td>\n",
       "      <td>...</td>\n",
       "      <td>0</td>\n",
       "      <td>0</td>\n",
       "      <td>0</td>\n",
       "      <td>1</td>\n",
       "      <td>0</td>\n",
       "      <td>0</td>\n",
       "      <td>0</td>\n",
       "      <td>0</td>\n",
       "      <td>0</td>\n",
       "      <td>0</td>\n",
       "    </tr>\n",
       "    <tr>\n",
       "      <td>1</td>\n",
       "      <td>33</td>\n",
       "      <td>0</td>\n",
       "      <td>192</td>\n",
       "      <td>9.2</td>\n",
       "      <td>0.495</td>\n",
       "      <td>7.9</td>\n",
       "      <td>10.3</td>\n",
       "      <td>1.0</td>\n",
       "      <td>0.4</td>\n",
       "      <td>3.0</td>\n",
       "      <td>...</td>\n",
       "      <td>0</td>\n",
       "      <td>0</td>\n",
       "      <td>0</td>\n",
       "      <td>0</td>\n",
       "      <td>0</td>\n",
       "      <td>0</td>\n",
       "      <td>0</td>\n",
       "      <td>0</td>\n",
       "      <td>0</td>\n",
       "      <td>1</td>\n",
       "    </tr>\n",
       "    <tr>\n",
       "      <td>2</td>\n",
       "      <td>28</td>\n",
       "      <td>38</td>\n",
       "      <td>1632</td>\n",
       "      <td>8.4</td>\n",
       "      <td>0.572</td>\n",
       "      <td>8.3</td>\n",
       "      <td>6.2</td>\n",
       "      <td>1.9</td>\n",
       "      <td>0.7</td>\n",
       "      <td>16.2</td>\n",
       "      <td>...</td>\n",
       "      <td>0</td>\n",
       "      <td>0</td>\n",
       "      <td>0</td>\n",
       "      <td>0</td>\n",
       "      <td>0</td>\n",
       "      <td>0</td>\n",
       "      <td>0</td>\n",
       "      <td>0</td>\n",
       "      <td>0</td>\n",
       "      <td>0</td>\n",
       "    </tr>\n",
       "    <tr>\n",
       "      <td>3</td>\n",
       "      <td>22</td>\n",
       "      <td>81</td>\n",
       "      <td>2666</td>\n",
       "      <td>21.2</td>\n",
       "      <td>0.499</td>\n",
       "      <td>24.5</td>\n",
       "      <td>4.4</td>\n",
       "      <td>2.3</td>\n",
       "      <td>3.2</td>\n",
       "      <td>10.5</td>\n",
       "      <td>...</td>\n",
       "      <td>0</td>\n",
       "      <td>0</td>\n",
       "      <td>0</td>\n",
       "      <td>0</td>\n",
       "      <td>0</td>\n",
       "      <td>0</td>\n",
       "      <td>0</td>\n",
       "      <td>0</td>\n",
       "      <td>0</td>\n",
       "      <td>0</td>\n",
       "    </tr>\n",
       "    <tr>\n",
       "      <td>4</td>\n",
       "      <td>33</td>\n",
       "      <td>0</td>\n",
       "      <td>1998</td>\n",
       "      <td>14.4</td>\n",
       "      <td>0.624</td>\n",
       "      <td>8.3</td>\n",
       "      <td>16.7</td>\n",
       "      <td>1.8</td>\n",
       "      <td>1.5</td>\n",
       "      <td>11.2</td>\n",
       "      <td>...</td>\n",
       "      <td>0</td>\n",
       "      <td>0</td>\n",
       "      <td>0</td>\n",
       "      <td>0</td>\n",
       "      <td>0</td>\n",
       "      <td>0</td>\n",
       "      <td>0</td>\n",
       "      <td>0</td>\n",
       "      <td>0</td>\n",
       "      <td>0</td>\n",
       "    </tr>\n",
       "  </tbody>\n",
       "</table>\n",
       "<p>5 rows × 60 columns</p>\n",
       "</div>"
      ],
      "text/plain": [
       "   Age  GS    MP   PER    TS%  TRB%  AST%  STL%  BLK%  TOV%  ...  Tm_ORL  \\\n",
       "0   25  82  2341  12.7  0.533  11.5   8.8   1.5   1.8  13.2  ...       0   \n",
       "1   33   0   192   9.2  0.495   7.9  10.3   1.0   0.4   3.0  ...       0   \n",
       "2   28  38  1632   8.4  0.572   8.3   6.2   1.9   0.7  16.2  ...       0   \n",
       "3   22  81  2666  21.2  0.499  24.5   4.4   2.3   3.2  10.5  ...       0   \n",
       "4   33   0  1998  14.4  0.624   8.3  16.7   1.8   1.5  11.2  ...       0   \n",
       "\n",
       "   Tm_PHI  Tm_PHO  Tm_POR  Tm_SAC  Tm_SAS  Tm_TOR  Tm_TOT  Tm_UTA  Tm_WAS  \n",
       "0       0       0       1       0       0       0       0       0       0  \n",
       "1       0       0       0       0       0       0       0       0       1  \n",
       "2       0       0       0       0       0       0       0       0       0  \n",
       "3       0       0       0       0       0       0       0       0       0  \n",
       "4       0       0       0       0       0       0       0       0       0  \n",
       "\n",
       "[5 rows x 60 columns]"
      ]
     },
     "execution_count": 23,
     "metadata": {},
     "output_type": "execute_result"
    }
   ],
   "source": [
    "X_test.head()"
   ]
  },
  {
   "cell_type": "code",
   "execution_count": 24,
   "metadata": {},
   "outputs": [
    {
     "data": {
      "text/plain": [
       "(145, 60)"
      ]
     },
     "execution_count": 24,
     "metadata": {},
     "output_type": "execute_result"
    }
   ],
   "source": [
    "X_test.shape"
   ]
  },
  {
   "cell_type": "code",
   "execution_count": null,
   "metadata": {},
   "outputs": [],
   "source": []
  },
  {
   "cell_type": "code",
   "execution_count": 25,
   "metadata": {},
   "outputs": [
    {
     "data": {
      "text/html": [
       "<div>\n",
       "<style scoped>\n",
       "    .dataframe tbody tr th:only-of-type {\n",
       "        vertical-align: middle;\n",
       "    }\n",
       "\n",
       "    .dataframe tbody tr th {\n",
       "        vertical-align: top;\n",
       "    }\n",
       "\n",
       "    .dataframe thead th {\n",
       "        text-align: right;\n",
       "    }\n",
       "</style>\n",
       "<table border=\"1\" class=\"dataframe\">\n",
       "  <thead>\n",
       "    <tr style=\"text-align: right;\">\n",
       "      <th></th>\n",
       "      <th>Age</th>\n",
       "      <th>GS</th>\n",
       "      <th>MP</th>\n",
       "      <th>PER</th>\n",
       "      <th>TS%</th>\n",
       "      <th>TRB%</th>\n",
       "      <th>AST%</th>\n",
       "      <th>STL%</th>\n",
       "      <th>BLK%</th>\n",
       "      <th>TOV%</th>\n",
       "      <th>...</th>\n",
       "      <th>Tm_ORL</th>\n",
       "      <th>Tm_PHI</th>\n",
       "      <th>Tm_PHO</th>\n",
       "      <th>Tm_POR</th>\n",
       "      <th>Tm_SAC</th>\n",
       "      <th>Tm_SAS</th>\n",
       "      <th>Tm_TOR</th>\n",
       "      <th>Tm_TOT</th>\n",
       "      <th>Tm_UTA</th>\n",
       "      <th>Tm_WAS</th>\n",
       "    </tr>\n",
       "  </thead>\n",
       "  <tbody>\n",
       "    <tr>\n",
       "      <td>0</td>\n",
       "      <td>31</td>\n",
       "      <td>0</td>\n",
       "      <td>1108</td>\n",
       "      <td>11.8</td>\n",
       "      <td>0.494</td>\n",
       "      <td>4.8</td>\n",
       "      <td>26.0</td>\n",
       "      <td>1.4</td>\n",
       "      <td>0.7</td>\n",
       "      <td>14.2</td>\n",
       "      <td>...</td>\n",
       "      <td>0</td>\n",
       "      <td>0</td>\n",
       "      <td>0</td>\n",
       "      <td>0</td>\n",
       "      <td>0</td>\n",
       "      <td>0</td>\n",
       "      <td>0</td>\n",
       "      <td>0</td>\n",
       "      <td>0</td>\n",
       "      <td>0</td>\n",
       "    </tr>\n",
       "    <tr>\n",
       "      <td>1</td>\n",
       "      <td>32</td>\n",
       "      <td>0</td>\n",
       "      <td>894</td>\n",
       "      <td>9.5</td>\n",
       "      <td>0.507</td>\n",
       "      <td>4.3</td>\n",
       "      <td>20.7</td>\n",
       "      <td>1.4</td>\n",
       "      <td>0.9</td>\n",
       "      <td>17.2</td>\n",
       "      <td>...</td>\n",
       "      <td>0</td>\n",
       "      <td>0</td>\n",
       "      <td>0</td>\n",
       "      <td>0</td>\n",
       "      <td>0</td>\n",
       "      <td>0</td>\n",
       "      <td>0</td>\n",
       "      <td>0</td>\n",
       "      <td>0</td>\n",
       "      <td>0</td>\n",
       "    </tr>\n",
       "    <tr>\n",
       "      <td>2</td>\n",
       "      <td>20</td>\n",
       "      <td>37</td>\n",
       "      <td>1863</td>\n",
       "      <td>17.0</td>\n",
       "      <td>0.541</td>\n",
       "      <td>15.1</td>\n",
       "      <td>10.3</td>\n",
       "      <td>1.6</td>\n",
       "      <td>2.4</td>\n",
       "      <td>9.0</td>\n",
       "      <td>...</td>\n",
       "      <td>1</td>\n",
       "      <td>0</td>\n",
       "      <td>0</td>\n",
       "      <td>0</td>\n",
       "      <td>0</td>\n",
       "      <td>0</td>\n",
       "      <td>0</td>\n",
       "      <td>0</td>\n",
       "      <td>0</td>\n",
       "      <td>0</td>\n",
       "    </tr>\n",
       "    <tr>\n",
       "      <td>3</td>\n",
       "      <td>21</td>\n",
       "      <td>72</td>\n",
       "      <td>2298</td>\n",
       "      <td>14.4</td>\n",
       "      <td>0.530</td>\n",
       "      <td>9.6</td>\n",
       "      <td>10.5</td>\n",
       "      <td>1.4</td>\n",
       "      <td>1.4</td>\n",
       "      <td>8.5</td>\n",
       "      <td>...</td>\n",
       "      <td>1</td>\n",
       "      <td>0</td>\n",
       "      <td>0</td>\n",
       "      <td>0</td>\n",
       "      <td>0</td>\n",
       "      <td>0</td>\n",
       "      <td>0</td>\n",
       "      <td>0</td>\n",
       "      <td>0</td>\n",
       "      <td>0</td>\n",
       "    </tr>\n",
       "    <tr>\n",
       "      <td>4</td>\n",
       "      <td>24</td>\n",
       "      <td>2</td>\n",
       "      <td>486</td>\n",
       "      <td>5.6</td>\n",
       "      <td>0.422</td>\n",
       "      <td>13.3</td>\n",
       "      <td>8.9</td>\n",
       "      <td>1.7</td>\n",
       "      <td>1.8</td>\n",
       "      <td>18.7</td>\n",
       "      <td>...</td>\n",
       "      <td>0</td>\n",
       "      <td>0</td>\n",
       "      <td>0</td>\n",
       "      <td>0</td>\n",
       "      <td>0</td>\n",
       "      <td>0</td>\n",
       "      <td>0</td>\n",
       "      <td>0</td>\n",
       "      <td>0</td>\n",
       "      <td>0</td>\n",
       "    </tr>\n",
       "  </tbody>\n",
       "</table>\n",
       "<p>5 rows × 60 columns</p>\n",
       "</div>"
      ],
      "text/plain": [
       "   Age  GS    MP   PER    TS%  TRB%  AST%  STL%  BLK%  TOV%  ...  Tm_ORL  \\\n",
       "0   31   0  1108  11.8  0.494   4.8  26.0   1.4   0.7  14.2  ...       0   \n",
       "1   32   0   894   9.5  0.507   4.3  20.7   1.4   0.9  17.2  ...       0   \n",
       "2   20  37  1863  17.0  0.541  15.1  10.3   1.6   2.4   9.0  ...       1   \n",
       "3   21  72  2298  14.4  0.530   9.6  10.5   1.4   1.4   8.5  ...       1   \n",
       "4   24   2   486   5.6  0.422  13.3   8.9   1.7   1.8  18.7  ...       0   \n",
       "\n",
       "   Tm_PHI  Tm_PHO  Tm_POR  Tm_SAC  Tm_SAS  Tm_TOR  Tm_TOT  Tm_UTA  Tm_WAS  \n",
       "0       0       0       0       0       0       0       0       0       0  \n",
       "1       0       0       0       0       0       0       0       0       0  \n",
       "2       0       0       0       0       0       0       0       0       0  \n",
       "3       0       0       0       0       0       0       0       0       0  \n",
       "4       0       0       0       0       0       0       0       0       0  \n",
       "\n",
       "[5 rows x 60 columns]"
      ]
     },
     "execution_count": 25,
     "metadata": {},
     "output_type": "execute_result"
    }
   ],
   "source": [
    "X_train.head()"
   ]
  },
  {
   "cell_type": "code",
   "execution_count": 26,
   "metadata": {},
   "outputs": [],
   "source": [
    "os.environ[\"PATH\"] += os.pathsep + 'C:/Program Files (x86)/Graphviz2.38/bin/'"
   ]
  },
  {
   "cell_type": "code",
   "execution_count": 27,
   "metadata": {},
   "outputs": [],
   "source": [
    "def returnFeatureImportance(gbm_model, vec):\n",
    "    feature_importance = gbm_model.feature_importances_\n",
    "    feature_importance = 100.0 * (feature_importance / feature_importance.max())\n",
    "    sorted_idx = np.argsort(feature_importance)\n",
    "    featuresNames = []\n",
    "    featureImps =[]\n",
    "    for item in sorted_idx[::-1][:]:\n",
    "        featuresNames.append(vec[item])\n",
    "        featureImps.append(feature_importance[item])\n",
    "    featureImportance = pd.DataFrame([featuresNames, featureImps]).transpose()\n",
    "    featureImportance.columns = ['FeatureName', 'Relative Importance']\n",
    "    return featureImportance"
   ]
  },
  {
   "cell_type": "code",
   "execution_count": null,
   "metadata": {},
   "outputs": [],
   "source": []
  },
  {
   "cell_type": "code",
   "execution_count": 28,
   "metadata": {},
   "outputs": [],
   "source": [
    "def return_regression_metrics(y_true, y_pred):\n",
    "    y_true = np.array(y_true)\n",
    "    y_pred = np.array(y_pred)\n",
    "\n",
    "    metrics_all = []\n",
    "    r2_score_model = r2_score(y_true, y_pred)\n",
    "    metrics_all.append(r2_score_model)\n",
    "\n",
    "    \n",
    "    \n",
    "    rmse_model = (mean_squared_error(y_true, y_pred))**0.5\n",
    "    metrics_all.append(rmse_model)\n",
    "    \n",
    "    mae = mean_absolute_error(y_true, y_pred)\n",
    "    metrics_all.append(mae)\n",
    "        \n",
    "    \n",
    "    return(metrics_all)    "
   ]
  },
  {
   "cell_type": "code",
   "execution_count": null,
   "metadata": {},
   "outputs": [],
   "source": []
  },
  {
   "cell_type": "code",
   "execution_count": null,
   "metadata": {},
   "outputs": [],
   "source": []
  },
  {
   "cell_type": "code",
   "execution_count": 29,
   "metadata": {},
   "outputs": [],
   "source": [
    "from sklearn.metrics import mean_squared_error\n",
    "from sklearn.metrics import r2_score\n",
    "from sklearn.metrics import mean_absolute_error\n",
    "\n",
    "def mean_absolute_percentage_error(y_true, y_pred): \n",
    "    return np.mean(np.abs((y_true - y_pred) / y_true)) * 100"
   ]
  },
  {
   "cell_type": "code",
   "execution_count": null,
   "metadata": {},
   "outputs": [],
   "source": []
  },
  {
   "cell_type": "code",
   "execution_count": null,
   "metadata": {},
   "outputs": [],
   "source": []
  },
  {
   "cell_type": "code",
   "execution_count": 30,
   "metadata": {},
   "outputs": [],
   "source": [
    "from sklearn.tree import DecisionTreeClassifier, DecisionTreeRegressor, export_graphviz"
   ]
  },
  {
   "cell_type": "code",
   "execution_count": 31,
   "metadata": {},
   "outputs": [
    {
     "name": "stdout",
     "output_type": "stream",
     "text": [
      "the best parameters {'max_depth': 6, 'max_features': 30, 'min_samples_leaf': 25, 'random_state': 398}\n"
     ]
    }
   ],
   "source": [
    "param_grid = {'max_depth': [6,10, 16,20, 24],\n",
    "              'max_features' : [10,20,30,40,46],\n",
    "              'min_samples_leaf': [5, 10, 25, 35],\n",
    "              'random_state':[398]\n",
    "              }\n",
    "est = DecisionTreeRegressor()\n",
    "gs_cv = GridSearchCV(est, param_grid, n_jobs=1).fit(X_train, Y_train)\n",
    "print ( \"the best parameters\", gs_cv.best_params_)\n",
    "params = gs_cv.best_params_"
   ]
  },
  {
   "cell_type": "code",
   "execution_count": null,
   "metadata": {},
   "outputs": [],
   "source": []
  },
  {
   "cell_type": "code",
   "execution_count": 32,
   "metadata": {},
   "outputs": [],
   "source": [
    "#params = {'max_depth': 15,  \"random_state\": SEED}\n",
    "SEED = 42\n",
    "\n",
    "#params = {'max_depth': 6, 'min_samples_leaf':10,  \"random_state\": SEED}\n",
    "\n",
    "model_name = 'Decision Tree'\n",
    "dt = DecisionTreeRegressor(**params)\n",
    "#dt=DecisionTreeRegressor()\n",
    "\n",
    "trained_model_dt = dt.fit(X_train,Y_train)"
   ]
  },
  {
   "cell_type": "code",
   "execution_count": 33,
   "metadata": {},
   "outputs": [
    {
     "data": {
      "text/plain": [
       "DecisionTreeRegressor(criterion='mse', max_depth=6, max_features=30,\n",
       "                      max_leaf_nodes=None, min_impurity_decrease=0.0,\n",
       "                      min_impurity_split=None, min_samples_leaf=25,\n",
       "                      min_samples_split=2, min_weight_fraction_leaf=0.0,\n",
       "                      presort=False, random_state=398, splitter='best')"
      ]
     },
     "execution_count": 33,
     "metadata": {},
     "output_type": "execute_result"
    }
   ],
   "source": [
    "trained_model_dt"
   ]
  },
  {
   "cell_type": "code",
   "execution_count": 34,
   "metadata": {},
   "outputs": [
    {
     "data": {
      "text/plain": [
       "(588, 60)"
      ]
     },
     "execution_count": 34,
     "metadata": {},
     "output_type": "execute_result"
    }
   ],
   "source": [
    "X_train.shape"
   ]
  },
  {
   "cell_type": "code",
   "execution_count": null,
   "metadata": {},
   "outputs": [],
   "source": []
  },
  {
   "cell_type": "code",
   "execution_count": null,
   "metadata": {},
   "outputs": [],
   "source": []
  },
  {
   "cell_type": "code",
   "execution_count": 35,
   "metadata": {},
   "outputs": [
    {
     "data": {
      "image/png": "[encoded data removed]",
      "text/plain": [
       "<IPython.core.display.Image object>"
      ]
     },
     "execution_count": 35,
     "metadata": {},
     "output_type": "execute_result"
    }
   ],
   "source": [
    "dot_data = StringIO()\n",
    "\n",
    "export_graphviz(trained_model_dt, out_file=dot_data, \n",
    "                feature_names = X_train.columns,\n",
    "                max_depth = 3,\n",
    "                class_names = ['0','1'],\n",
    "                rounded = True, proportion = False, \n",
    "                precision = 2, filled = True)\n",
    "\n",
    "graph = pydotplus.graph_from_dot_data(dot_data.getvalue())  \n",
    "Image(graph.create_png())\n"
   ]
  },
  {
   "cell_type": "code",
   "execution_count": null,
   "metadata": {},
   "outputs": [],
   "source": []
  },
  {
   "cell_type": "code",
   "execution_count": null,
   "metadata": {},
   "outputs": [],
   "source": []
  },
  {
   "cell_type": "code",
   "execution_count": 36,
   "metadata": {},
   "outputs": [],
   "source": [
    "dt_model_predict_train = trained_model_dt.predict(X_train)\n",
    "dt_model_predict_test = trained_model_dt.predict(X_test)"
   ]
  },
  {
   "cell_type": "code",
   "execution_count": null,
   "metadata": {},
   "outputs": [],
   "source": []
  },
  {
   "cell_type": "code",
   "execution_count": null,
   "metadata": {},
   "outputs": [],
   "source": []
  },
  {
   "cell_type": "code",
   "execution_count": 40,
   "metadata": {},
   "outputs": [],
   "source": [
    "metrics_train = return_regression_metrics(Y_train, dt_model_predict_train)\n",
    "\n",
    "metrics_test = return_regression_metrics(Y_test, dt_model_predict_test)"
   ]
  },
  {
   "cell_type": "code",
   "execution_count": null,
   "metadata": {},
   "outputs": [],
   "source": []
  },
  {
   "cell_type": "code",
   "execution_count": 41,
   "metadata": {},
   "outputs": [
    {
     "name": "stdout",
     "output_type": "stream",
     "text": [
      "[0.6455394026937742, 4361633.959674826, 3255677.476321826]\n"
     ]
    }
   ],
   "source": [
    "print(metrics_train)"
   ]
  },
  {
   "cell_type": "code",
   "execution_count": null,
   "metadata": {},
   "outputs": [],
   "source": []
  },
  {
   "cell_type": "code",
   "execution_count": 42,
   "metadata": {},
   "outputs": [
    {
     "name": "stdout",
     "output_type": "stream",
     "text": [
      "[0.378677637774645, 5599456.442551026, 4293704.394026719]\n"
     ]
    }
   ],
   "source": [
    "print(metrics_test)"
   ]
  },
  {
   "cell_type": "code",
   "execution_count": null,
   "metadata": {},
   "outputs": [],
   "source": []
  },
  {
   "cell_type": "code",
   "execution_count": 43,
   "metadata": {},
   "outputs": [],
   "source": [
    "feature_importance_dt =  returnFeatureImportance(trained_model_dt, X_train.columns.tolist())\n",
    "feature_importance_dt.to_csv('feature_importance_decisiontree_v1.csv',index=False)"
   ]
  },
  {
   "cell_type": "code",
   "execution_count": 44,
   "metadata": {},
   "outputs": [
    {
     "data": {
      "text/html": [
       "<div>\n",
       "<style scoped>\n",
       "    .dataframe tbody tr th:only-of-type {\n",
       "        vertical-align: middle;\n",
       "    }\n",
       "\n",
       "    .dataframe tbody tr th {\n",
       "        vertical-align: top;\n",
       "    }\n",
       "\n",
       "    .dataframe thead th {\n",
       "        text-align: right;\n",
       "    }\n",
       "</style>\n",
       "<table border=\"1\" class=\"dataframe\">\n",
       "  <thead>\n",
       "    <tr style=\"text-align: right;\">\n",
       "      <th></th>\n",
       "      <th>FeatureName</th>\n",
       "      <th>Relative Importance</th>\n",
       "    </tr>\n",
       "  </thead>\n",
       "  <tbody>\n",
       "    <tr>\n",
       "      <td>0</td>\n",
       "      <td>FG</td>\n",
       "      <td>100</td>\n",
       "    </tr>\n",
       "    <tr>\n",
       "      <td>1</td>\n",
       "      <td>WS</td>\n",
       "      <td>34.9596</td>\n",
       "    </tr>\n",
       "    <tr>\n",
       "      <td>2</td>\n",
       "      <td>Age</td>\n",
       "      <td>14.2956</td>\n",
       "    </tr>\n",
       "    <tr>\n",
       "      <td>3</td>\n",
       "      <td>MP</td>\n",
       "      <td>7.22209</td>\n",
       "    </tr>\n",
       "  </tbody>\n",
       "</table>\n",
       "</div>"
      ],
      "text/plain": [
       "  FeatureName Relative Importance\n",
       "0          FG                 100\n",
       "1          WS             34.9596\n",
       "2         Age             14.2956\n",
       "3          MP             7.22209"
      ]
     },
     "execution_count": 44,
     "metadata": {},
     "output_type": "execute_result"
    }
   ],
   "source": [
    "feature_importance_dt.head(4)"
   ]
  },
  {
   "cell_type": "code",
   "execution_count": null,
   "metadata": {},
   "outputs": [],
   "source": []
  },
  {
   "cell_type": "code",
   "execution_count": null,
   "metadata": {},
   "outputs": [],
   "source": []
  },
  {
   "cell_type": "code",
   "execution_count": null,
   "metadata": {},
   "outputs": [],
   "source": []
  },
  {
   "cell_type": "code",
   "execution_count": 47,
   "metadata": {},
   "outputs": [],
   "source": [
    "from sklearn.ensemble import RandomForestClassifier, GradientBoostingClassifier, VotingClassifier\n",
    "from sklearn.ensemble import RandomForestRegressor, GradientBoostingRegressor\n",
    "from xgboost.sklearn import XGBClassifier"
   ]
  },
  {
   "cell_type": "code",
   "execution_count": null,
   "metadata": {},
   "outputs": [],
   "source": []
  },
  {
   "cell_type": "code",
   "execution_count": 48,
   "metadata": {},
   "outputs": [],
   "source": [
    "# Create random forest classifier model \n",
    "\n",
    "model_name = 'Random Forest'\n",
    "clf = RandomForestRegressor()\n",
    "trained_model_rf = clf.fit(X_train,Y_train)"
   ]
  },
  {
   "cell_type": "code",
   "execution_count": 49,
   "metadata": {},
   "outputs": [
    {
     "data": {
      "text/plain": [
       "RandomForestRegressor(bootstrap=True, criterion='mse', max_depth=None,\n",
       "                      max_features='auto', max_leaf_nodes=None,\n",
       "                      min_impurity_decrease=0.0, min_impurity_split=None,\n",
       "                      min_samples_leaf=1, min_samples_split=2,\n",
       "                      min_weight_fraction_leaf=0.0, n_estimators=10,\n",
       "                      n_jobs=None, oob_score=False, random_state=None,\n",
       "                      verbose=0, warm_start=False)"
      ]
     },
     "execution_count": 49,
     "metadata": {},
     "output_type": "execute_result"
    }
   ],
   "source": [
    "trained_model_rf"
   ]
  },
  {
   "cell_type": "code",
   "execution_count": null,
   "metadata": {},
   "outputs": [],
   "source": []
  },
  {
   "cell_type": "code",
   "execution_count": null,
   "metadata": {},
   "outputs": [],
   "source": []
  },
  {
   "cell_type": "code",
   "execution_count": 50,
   "metadata": {},
   "outputs": [
    {
     "name": "stdout",
     "output_type": "stream",
     "text": [
      "the best parameters {'max_depth': 6, 'max_features': 46, 'min_samples_leaf': 5, 'n_estimators': 400, 'random_state': 398}\n"
     ]
    }
   ],
   "source": [
    "param_grid = {'n_estimators': [200,400],\n",
    "              'max_depth': [6,10, 16],\n",
    "              'max_features' : [10,30,46],\n",
    "              'min_samples_leaf': [5, 10, 25],\n",
    "              'random_state':[398]\n",
    "              }\n",
    "\n",
    "\n",
    "est = RandomForestRegressor()\n",
    "gs_cv = GridSearchCV(est, param_grid, n_jobs=1).fit(X_train, Y_train)\n",
    "print ( \"the best parameters\", gs_cv.best_params_)\n",
    "params = gs_cv.best_params_"
   ]
  },
  {
   "cell_type": "code",
   "execution_count": null,
   "metadata": {},
   "outputs": [],
   "source": []
  },
  {
   "cell_type": "code",
   "execution_count": 51,
   "metadata": {},
   "outputs": [],
   "source": [
    "model_name = 'Random Forest'\n",
    "rf_best_model = RandomForestRegressor(**params)\n",
    "\n",
    "trained_model_rf = rf_best_model.fit(X_train,Y_train)"
   ]
  },
  {
   "cell_type": "code",
   "execution_count": null,
   "metadata": {},
   "outputs": [],
   "source": []
  },
  {
   "cell_type": "code",
   "execution_count": 52,
   "metadata": {},
   "outputs": [],
   "source": [
    "rf_model_predict_train = trained_model_rf.predict(X_train)\n",
    "rf_model_predict_test = trained_model_rf.predict(X_test)"
   ]
  },
  {
   "cell_type": "code",
   "execution_count": null,
   "metadata": {},
   "outputs": [],
   "source": []
  },
  {
   "cell_type": "code",
   "execution_count": 53,
   "metadata": {},
   "outputs": [],
   "source": [
    "metrics_train = return_regression_metrics(Y_train, rf_model_predict_train)\n",
    "metrics_test = return_regression_metrics(Y_test, rf_model_predict_test)"
   ]
  },
  {
   "cell_type": "code",
   "execution_count": null,
   "metadata": {},
   "outputs": [],
   "source": []
  },
  {
   "cell_type": "code",
   "execution_count": 54,
   "metadata": {},
   "outputs": [],
   "source": [
    "feature_importance_dt =  returnFeatureImportance(rf_best_model, X_train.columns.tolist())\n",
    "feature_importance_dt.to_csv('feature_importance_random_forest_v1.csv',index=False)"
   ]
  },
  {
   "cell_type": "code",
   "execution_count": null,
   "metadata": {},
   "outputs": [],
   "source": []
  },
  {
   "cell_type": "code",
   "execution_count": null,
   "metadata": {},
   "outputs": [],
   "source": []
  },
  {
   "cell_type": "code",
   "execution_count": 55,
   "metadata": {},
   "outputs": [
    {
     "name": "stdout",
     "output_type": "stream",
     "text": [
      "[0.8082829139586529, 3207714.0235414198, 2398166.257843828]\n"
     ]
    }
   ],
   "source": [
    "print(metrics_train)"
   ]
  },
  {
   "cell_type": "code",
   "execution_count": null,
   "metadata": {},
   "outputs": [],
   "source": []
  },
  {
   "cell_type": "code",
   "execution_count": 56,
   "metadata": {},
   "outputs": [
    {
     "name": "stdout",
     "output_type": "stream",
     "text": [
      "[0.4941488081217581, 5052412.106433371, 3877853.955961598]\n"
     ]
    }
   ],
   "source": [
    "print(metrics_test)"
   ]
  },
  {
   "cell_type": "code",
   "execution_count": null,
   "metadata": {},
   "outputs": [],
   "source": []
  },
  {
   "cell_type": "code",
   "execution_count": null,
   "metadata": {},
   "outputs": [],
   "source": []
  },
  {
   "cell_type": "code",
   "execution_count": 57,
   "metadata": {},
   "outputs": [],
   "source": [
    "##### GBM Model Below"
   ]
  },
  {
   "cell_type": "code",
   "execution_count": 59,
   "metadata": {},
   "outputs": [
    {
     "name": "stdout",
     "output_type": "stream",
     "text": [
      "the best parameters {'learning_rate': 0.05, 'max_depth': 16, 'max_features': 30, 'min_samples_leaf': 5, 'n_estimators': 400, 'random_state': 398}\n"
     ]
    }
   ],
   "source": [
    "param_grid = {'learning_rate': [0.1, 0.05, 0.01],\n",
    "              'n_estimators': [200,400,600],\n",
    "              'max_depth': [6,10, 16],\n",
    "              'max_features' : [10,30,46],\n",
    "              'min_samples_leaf': [5, 10, 25],\n",
    "              'random_state':[398]\n",
    "              }\n",
    "\n",
    "\n",
    "est =  GradientBoostingRegressor()\n",
    "gs_cv = GridSearchCV(est, param_grid, n_jobs=1).fit(X_train, Y_train)\n",
    "print ( \"the best parameters\", gs_cv.best_params_)\n",
    "params = gs_cv.best_params_"
   ]
  },
  {
   "cell_type": "code",
   "execution_count": null,
   "metadata": {},
   "outputs": [],
   "source": []
  },
  {
   "cell_type": "code",
   "execution_count": null,
   "metadata": {},
   "outputs": [],
   "source": []
  },
  {
   "cell_type": "code",
   "execution_count": null,
   "metadata": {},
   "outputs": [],
   "source": []
  },
  {
   "cell_type": "code",
   "execution_count": null,
   "metadata": {},
   "outputs": [],
   "source": []
  },
  {
   "cell_type": "code",
   "execution_count": null,
   "metadata": {},
   "outputs": [],
   "source": []
  },
  {
   "cell_type": "code",
   "execution_count": 60,
   "metadata": {},
   "outputs": [
    {
     "data": {
      "text/plain": [
       "GradientBoostingRegressor(alpha=0.9, criterion='friedman_mse', init=None,\n",
       "                          learning_rate=0.05, loss='ls', max_depth=16,\n",
       "                          max_features=30, max_leaf_nodes=None,\n",
       "                          min_impurity_decrease=0.0, min_impurity_split=None,\n",
       "                          min_samples_leaf=5, min_samples_split=2,\n",
       "                          min_weight_fraction_leaf=0.0, n_estimators=400,\n",
       "                          n_iter_no_change=None, presort='auto',\n",
       "                          random_state=398, subsample=1.0, tol=0.0001,\n",
       "                          validation_fraction=0.1, verbose=0, warm_start=False)"
      ]
     },
     "execution_count": 60,
     "metadata": {},
     "output_type": "execute_result"
    }
   ],
   "source": [
    "gbm_model = GradientBoostingRegressor(**params)\n",
    "gbm_model.fit(X_train, Y_train)"
   ]
  },
  {
   "cell_type": "code",
   "execution_count": null,
   "metadata": {},
   "outputs": [],
   "source": []
  },
  {
   "cell_type": "code",
   "execution_count": 61,
   "metadata": {},
   "outputs": [],
   "source": [
    "feature_importance_dt =  returnFeatureImportance(gbm_model, X_train.columns.tolist())\n",
    "feature_importance_dt.to_csv('feature_importance_gbm_model_v1.csv',index=False)"
   ]
  },
  {
   "cell_type": "code",
   "execution_count": null,
   "metadata": {},
   "outputs": [],
   "source": []
  },
  {
   "cell_type": "code",
   "execution_count": null,
   "metadata": {},
   "outputs": [],
   "source": []
  },
  {
   "cell_type": "code",
   "execution_count": 62,
   "metadata": {},
   "outputs": [],
   "source": [
    "gbm_model_predict_train = gbm_model.predict(X_train)\n",
    "gbm_model_predict_test = gbm_model.predict(X_test)"
   ]
  },
  {
   "cell_type": "code",
   "execution_count": null,
   "metadata": {},
   "outputs": [],
   "source": []
  },
  {
   "cell_type": "code",
   "execution_count": 63,
   "metadata": {},
   "outputs": [],
   "source": [
    "metrics_train = return_regression_metrics(Y_train, gbm_model_predict_train)\n",
    "metrics_test = return_regression_metrics(Y_test, gbm_model_predict_test)"
   ]
  },
  {
   "cell_type": "code",
   "execution_count": 64,
   "metadata": {},
   "outputs": [
    {
     "name": "stdout",
     "output_type": "stream",
     "text": [
      "[0.9999949683176826, 16433.188609793684, 3633.0605110102715]\n"
     ]
    }
   ],
   "source": [
    "print(metrics_train)"
   ]
  },
  {
   "cell_type": "code",
   "execution_count": 65,
   "metadata": {},
   "outputs": [
    {
     "name": "stdout",
     "output_type": "stream",
     "text": [
      "[0.4588905746798182, 5225524.974153249, 3934393.303029344]\n"
     ]
    }
   ],
   "source": [
    "print(metrics_test)"
   ]
  },
  {
   "cell_type": "code",
   "execution_count": null,
   "metadata": {},
   "outputs": [],
   "source": []
  },
  {
   "cell_type": "code",
   "execution_count": null,
   "metadata": {},
   "outputs": [],
   "source": []
  },
  {
   "cell_type": "code",
   "execution_count": null,
   "metadata": {},
   "outputs": [],
   "source": []
  },
  {
   "cell_type": "code",
   "execution_count": 66,
   "metadata": {},
   "outputs": [
    {
     "data": {
      "text/plain": [
       "(588, 60)"
      ]
     },
     "execution_count": 66,
     "metadata": {},
     "output_type": "execute_result"
    }
   ],
   "source": [
    "X_train.shape"
   ]
  },
  {
   "cell_type": "code",
   "execution_count": 67,
   "metadata": {},
   "outputs": [
    {
     "name": "stderr",
     "output_type": "stream",
     "text": [
      "[Parallel(n_jobs=4)]: Using backend LokyBackend with 4 concurrent workers.\n",
      "[Parallel(n_jobs=4)]: Done  30 out of  60 | elapsed:    8.1s remaining:    8.1s\n",
      "[Parallel(n_jobs=4)]: Done  60 out of  60 | elapsed:    9.6s finished\n"
     ]
    }
   ],
   "source": [
    "# Create range of values for parameter\n",
    "param_range = np.arange(1, 100, 5)\n",
    "\n",
    "# Calculate accuracy on training and test set using range of parameter values\n",
    "train_scores, test_scores = validation_curve(GradientBoostingRegressor(), \n",
    "                                             X_train, \n",
    "                                             Y_train, \n",
    "                                             param_name=\"min_samples_leaf\", \n",
    "                                             param_range=param_range,\n",
    "                                             cv=3,\n",
    "#                                             scoring=\"accuracy\", \n",
    "                                             n_jobs=4,\n",
    "                                             verbose = 2)"
   ]
  },
  {
   "cell_type": "code",
   "execution_count": null,
   "metadata": {},
   "outputs": [],
   "source": []
  },
  {
   "cell_type": "code",
   "execution_count": 68,
   "metadata": {},
   "outputs": [
    {
     "data": {
      "image/png": "[encoded data removed]",
      "text/plain": [
       "<Figure size 432x288 with 1 Axes>"
      ]
     },
     "metadata": {
      "needs_background": "light"
     },
     "output_type": "display_data"
    }
   ],
   "source": [
    "# Calculate mean and standard deviation for training set scores\n",
    "train_mean = np.mean(train_scores, axis=1)\n",
    "train_std = np.std(train_scores, axis=1)\n",
    "\n",
    "# Calculate mean and standard deviation for test set scores\n",
    "test_mean = np.mean(test_scores, axis=1)\n",
    "test_std = np.std(test_scores, axis=1)\n",
    "\n",
    "# Plot mean accuracy scores for training and test sets\n",
    "plt.plot(param_range, train_mean, label=\"Training score\", color=\"black\")\n",
    "plt.plot(param_range, test_mean, label=\"Cross-validation score\", color=\"dimgrey\")\n",
    "\n",
    "\n",
    "# Plot accurancy bands for training and test sets\n",
    "plt.fill_between(param_range, train_mean - train_std, train_mean + train_std, color=\"gray\")\n",
    "plt.fill_between(param_range, test_mean - test_std, test_mean + test_std, color=\"gainsboro\")\n",
    "\n",
    "# Create plot\n",
    "plt.title(\"Validation Curve With GBM: for Min Samples Leaf Node\")\n",
    "plt.xlabel(\"Min Samples Leaf Node\")\n",
    "plt.ylabel(\"CV Accuracy\")\n",
    "plt.tight_layout()\n",
    "plt.legend(loc=\"best\")\n",
    "plt.show()"
   ]
  },
  {
   "cell_type": "code",
   "execution_count": null,
   "metadata": {},
   "outputs": [],
   "source": []
  },
  {
   "cell_type": "code",
   "execution_count": null,
   "metadata": {},
   "outputs": [],
   "source": []
  },
  {
   "cell_type": "code",
   "execution_count": null,
   "metadata": {},
   "outputs": [],
   "source": []
  },
  {
   "cell_type": "code",
   "execution_count": null,
   "metadata": {},
   "outputs": [],
   "source": []
  },
  {
   "cell_type": "code",
   "execution_count": 69,
   "metadata": {},
   "outputs": [],
   "source": [
    "from sklearn.model_selection import train_test_split, GridSearchCV, validation_curve "
   ]
  },
  {
   "cell_type": "code",
   "execution_count": 70,
   "metadata": {},
   "outputs": [
    {
     "name": "stderr",
     "output_type": "stream",
     "text": [
      "[Parallel(n_jobs=4)]: Using backend LokyBackend with 4 concurrent workers.\n",
      "[Parallel(n_jobs=4)]: Done  30 out of  60 | elapsed:   30.3s remaining:   30.3s\n",
      "[Parallel(n_jobs=4)]: Done  60 out of  60 | elapsed:  1.1min finished\n"
     ]
    }
   ],
   "source": [
    "# Create range of values for parameter\n",
    "param_range = np.arange(1, 1000, 50)\n",
    "\n",
    "# Calculate accuracy on training and test set using range of parameter values\n",
    "train_scores, test_scores = validation_curve(RandomForestRegressor(), \n",
    "                                             X_train, \n",
    "                                             Y_train, \n",
    "                                             param_name=\"n_estimators\", \n",
    "                                             param_range=param_range,\n",
    "                                             cv=3,\n",
    "#                                             scoring=\"accuracy\", \n",
    "                                             n_jobs=4,\n",
    "                                             verbose = 2)"
   ]
  },
  {
   "cell_type": "code",
   "execution_count": null,
   "metadata": {},
   "outputs": [],
   "source": []
  },
  {
   "cell_type": "code",
   "execution_count": null,
   "metadata": {},
   "outputs": [],
   "source": []
  },
  {
   "cell_type": "code",
   "execution_count": 71,
   "metadata": {},
   "outputs": [
    {
     "data": {
      "image/png": "[encoded data removed]",
      "text/plain": [
       "<Figure size 432x288 with 1 Axes>"
      ]
     },
     "metadata": {
      "needs_background": "light"
     },
     "output_type": "display_data"
    }
   ],
   "source": [
    "# Calculate mean and standard deviation for training set scores\n",
    "train_mean = np.mean(train_scores, axis=1)\n",
    "train_std = np.std(train_scores, axis=1)\n",
    "\n",
    "# Calculate mean and standard deviation for test set scores\n",
    "test_mean = np.mean(test_scores, axis=1)\n",
    "test_std = np.std(test_scores, axis=1)\n",
    "\n",
    "# Plot mean accuracy scores for training and test sets\n",
    "plt.plot(param_range, train_mean, label=\"Training score\", color=\"black\")\n",
    "plt.plot(param_range, test_mean, label=\"Cross-validation score\", color=\"dimgrey\")\n",
    "\n",
    "\n",
    "# Plot accurancy bands for training and test sets\n",
    "plt.fill_between(param_range, train_mean - train_std, train_mean + train_std, color=\"gray\")\n",
    "plt.fill_between(param_range, test_mean - test_std, test_mean + test_std, color=\"gainsboro\")\n",
    "\n",
    "# Create plot\n",
    "plt.title(\"Validation Curve With Random Forest: for Number of Trees\")\n",
    "plt.xlabel(\"Number Of Trees\")\n",
    "plt.ylabel(\"CV Accuracy\")\n",
    "plt.tight_layout()\n",
    "plt.legend(loc=\"best\")\n",
    "plt.show()"
   ]
  },
  {
   "cell_type": "code",
   "execution_count": null,
   "metadata": {},
   "outputs": [],
   "source": []
  },
  {
   "cell_type": "code",
   "execution_count": null,
   "metadata": {},
   "outputs": [],
   "source": []
  },
  {
   "cell_type": "code",
   "execution_count": null,
   "metadata": {},
   "outputs": [],
   "source": []
  },
  {
   "cell_type": "code",
   "execution_count": 72,
   "metadata": {},
   "outputs": [
    {
     "name": "stderr",
     "output_type": "stream",
     "text": [
      "[Parallel(n_jobs=4)]: Using backend LokyBackend with 4 concurrent workers.\n",
      "[Parallel(n_jobs=4)]: Done   9 out of  18 | elapsed:    0.3s remaining:    0.3s\n",
      "[Parallel(n_jobs=4)]: Done  18 out of  18 | elapsed:    0.5s finished\n"
     ]
    }
   ],
   "source": [
    "# Create range of values for parameter\n",
    "param_range = np.arange(1, 60, 10)\n",
    "\n",
    "# Calculate accuracy on training and test set using range of parameter values\n",
    "train_scores, test_scores = validation_curve(RandomForestRegressor(), \n",
    "                                             X_train, \n",
    "                                             Y_train, \n",
    "                                             param_name=\"max_depth\", \n",
    "                                             param_range=param_range,\n",
    "                                             cv=3,\n",
    "#                                             scoring=\"accuracy\", \n",
    "                                             n_jobs=4,\n",
    "                                             verbose = 2)"
   ]
  },
  {
   "cell_type": "code",
   "execution_count": 73,
   "metadata": {},
   "outputs": [
    {
     "data": {
      "image/png": "[encoded data removed]",
      "text/plain": [
       "<Figure size 432x288 with 1 Axes>"
      ]
     },
     "metadata": {
      "needs_background": "light"
     },
     "output_type": "display_data"
    }
   ],
   "source": [
    "# Calculate mean and standard deviation for training set scores\n",
    "train_mean = np.mean(train_scores, axis=1)\n",
    "train_std = np.std(train_scores, axis=1)\n",
    "\n",
    "# Calculate mean and standard deviation for test set scores\n",
    "test_mean = np.mean(test_scores, axis=1)\n",
    "test_std = np.std(test_scores, axis=1)\n",
    "\n",
    "# Plot mean accuracy scores for training and test sets\n",
    "plt.plot(param_range, train_mean, label=\"Training score\", color=\"black\")\n",
    "plt.plot(param_range, test_mean, label=\"Cross-validation score\", color=\"dimgrey\")\n",
    "\n",
    "\n",
    "# Plot accurancy bands for training and test sets\n",
    "plt.fill_between(param_range, train_mean - train_std, train_mean + train_std, color=\"gray\")\n",
    "plt.fill_between(param_range, test_mean - test_std, test_mean + test_std, color=\"gainsboro\")\n",
    "\n",
    "# Create plot\n",
    "plt.title(\"Validation Curve With Random Forest- on Max_Depth\")\n",
    "plt.xlabel(\"Max Depth\")\n",
    "plt.ylabel(\"CV Accuracy\")\n",
    "plt.tight_layout()\n",
    "plt.legend(loc=\"best\")\n",
    "plt.show()"
   ]
  },
  {
   "cell_type": "code",
   "execution_count": null,
   "metadata": {},
   "outputs": [],
   "source": []
  },
  {
   "cell_type": "code",
   "execution_count": null,
   "metadata": {},
   "outputs": [],
   "source": []
  },
  {
   "cell_type": "code",
   "execution_count": 74,
   "metadata": {},
   "outputs": [
    {
     "name": "stderr",
     "output_type": "stream",
     "text": [
      "[Parallel(n_jobs=4)]: Using backend LokyBackend with 4 concurrent workers.\n",
      "[Parallel(n_jobs=4)]: Done  23 out of  45 | elapsed:    0.5s remaining:    0.5s\n",
      "[Parallel(n_jobs=4)]: Done  45 out of  45 | elapsed:    0.9s finished\n"
     ]
    }
   ],
   "source": [
    "# Create range of values for parameter\n",
    "param_range = np.arange(5, 150, 10)\n",
    "\n",
    "# Calculate accuracy on training and test set using range of parameter values\n",
    "train_scores, test_scores = validation_curve(RandomForestRegressor(), \n",
    "                                             X_train, \n",
    "                                             Y_train, \n",
    "                                             param_name=\"min_samples_leaf\", \n",
    "                                             param_range=param_range,\n",
    "                                             cv=3,\n",
    "#                                             scoring=\"accuracy\", \n",
    "                                             n_jobs=4,\n",
    "                                             verbose = 2)"
   ]
  },
  {
   "cell_type": "code",
   "execution_count": null,
   "metadata": {},
   "outputs": [],
   "source": []
  },
  {
   "cell_type": "code",
   "execution_count": 75,
   "metadata": {},
   "outputs": [
    {
     "data": {
      "image/png": "[encoded data removed]",
      "text/plain": [
       "<Figure size 432x288 with 1 Axes>"
      ]
     },
     "metadata": {
      "needs_background": "light"
     },
     "output_type": "display_data"
    }
   ],
   "source": [
    "# Calculate mean and standard deviation for training set scores\n",
    "train_mean = np.mean(train_scores, axis=1)\n",
    "train_std = np.std(train_scores, axis=1)\n",
    "\n",
    "# Calculate mean and standard deviation for test set scores\n",
    "test_mean = np.mean(test_scores, axis=1)\n",
    "test_std = np.std(test_scores, axis=1)\n",
    "\n",
    "# Plot mean accuracy scores for training and test sets\n",
    "plt.plot(param_range, train_mean, label=\"Training score\", color=\"black\")\n",
    "plt.plot(param_range, test_mean, label=\"Cross-validation score\", color=\"dimgrey\")\n",
    "\n",
    "\n",
    "# Plot accurancy bands for training and test sets\n",
    "plt.fill_between(param_range, train_mean - train_std, train_mean + train_std, color=\"gray\")\n",
    "plt.fill_between(param_range, test_mean - test_std, test_mean + test_std, color=\"gainsboro\")\n",
    "\n",
    "# Create plot\n",
    "plt.title(\"Validation Curve With Random Forest- on Min samples leaf node\")\n",
    "plt.xlabel(\"Min Samples in the leaf node\")\n",
    "plt.ylabel(\"CV Accuracy\")\n",
    "plt.tight_layout()\n",
    "plt.legend(loc=\"best\")\n",
    "plt.show()"
   ]
  },
  {
   "cell_type": "code",
   "execution_count": null,
   "metadata": {},
   "outputs": [],
   "source": []
  },
  {
   "cell_type": "code",
   "execution_count": 76,
   "metadata": {},
   "outputs": [
    {
     "data": {
      "text/plain": [
       "(588, 60)"
      ]
     },
     "execution_count": 76,
     "metadata": {},
     "output_type": "execute_result"
    }
   ],
   "source": [
    "X_train.shape"
   ]
  },
  {
   "cell_type": "code",
   "execution_count": 77,
   "metadata": {},
   "outputs": [
    {
     "name": "stderr",
     "output_type": "stream",
     "text": [
      "[Parallel(n_jobs=4)]: Using backend LokyBackend with 4 concurrent workers.\n",
      "[Parallel(n_jobs=4)]: Done  18 out of  36 | elapsed:    0.5s remaining:    0.5s\n",
      "[Parallel(n_jobs=4)]: Done  36 out of  36 | elapsed:    1.0s finished\n"
     ]
    }
   ],
   "source": [
    "# Create range of values for parameter\n",
    "param_range = np.arange(1, 60, 5 )\n",
    "\n",
    "# Calculate accuracy on training and test set using range of parameter values\n",
    "train_scores, test_scores = validation_curve(RandomForestRegressor(), \n",
    "                                             X_train, \n",
    "                                             Y_train, \n",
    "                                             param_name=\"max_features\", \n",
    "                                             param_range=param_range,\n",
    "                                             cv=3,\n",
    "#                                             scoring=\"accuracy\", \n",
    "                                             n_jobs=4,\n",
    "                                             verbose = 2)"
   ]
  },
  {
   "cell_type": "code",
   "execution_count": 78,
   "metadata": {},
   "outputs": [
    {
     "data": {
      "image/png": "[encoded data removed]",
      "text/plain": [
       "<Figure size 432x288 with 1 Axes>"
      ]
     },
     "metadata": {
      "needs_background": "light"
     },
     "output_type": "display_data"
    }
   ],
   "source": [
    "# Calculate mean and standard deviation for training set scores\n",
    "train_mean = np.mean(train_scores, axis=1)\n",
    "train_std = np.std(train_scores, axis=1)\n",
    "\n",
    "# Calculate mean and standard deviation for test set scores\n",
    "test_mean = np.mean(test_scores, axis=1)\n",
    "test_std = np.std(test_scores, axis=1)\n",
    "\n",
    "# Plot mean accuracy scores for training and test sets\n",
    "plt.plot(param_range, train_mean, label=\"Training score\", color=\"black\")\n",
    "plt.plot(param_range, test_mean, label=\"Cross-validation score\", color=\"dimgrey\")\n",
    "\n",
    "\n",
    "# Plot accurancy bands for training and test sets\n",
    "plt.fill_between(param_range, train_mean - train_std, train_mean + train_std, color=\"gray\")\n",
    "plt.fill_between(param_range, test_mean - test_std, test_mean + test_std, color=\"gainsboro\")\n",
    "\n",
    "# Create plot\n",
    "plt.title(\"Validation Curve With Random Forest- on Min samples leaf node\")\n",
    "plt.xlabel(\"Number Of Trees\")\n",
    "plt.ylabel(\"CV Accuracy\")\n",
    "plt.tight_layout()\n",
    "plt.legend(loc=\"best\")\n",
    "plt.show()"
   ]
  },
  {
   "cell_type": "code",
   "execution_count": null,
   "metadata": {},
   "outputs": [],
   "source": []
  },
  {
   "cell_type": "code",
   "execution_count": null,
   "metadata": {},
   "outputs": [],
   "source": []
  },
  {
   "cell_type": "code",
   "execution_count": null,
   "metadata": {},
   "outputs": [],
   "source": []
  },
  {
   "cell_type": "code",
   "execution_count": null,
   "metadata": {},
   "outputs": [],
   "source": []
  },
  {
   "cell_type": "code",
   "execution_count": null,
   "metadata": {},
   "outputs": [],
   "source": []
  },
  {
   "cell_type": "code",
   "execution_count": null,
   "metadata": {},
   "outputs": [],
   "source": []
  },
  {
   "cell_type": "code",
   "execution_count": null,
   "metadata": {},
   "outputs": [],
   "source": []
  }
 ],
 "metadata": {
  "kernelspec": {
   "display_name": "Python 3",
   "language": "python",
   "name": "python3"
  },
  "language_info": {
   "codemirror_mode": {
    "name": "ipython",
    "version": 3
   },
   "file_extension": ".py",
   "mimetype": "text/x-python",
   "name": "python",
   "nbconvert_exporter": "python",
   "pygments_lexer": "ipython3",
   "version": "3.7.4"
  }
 },
 "nbformat": 4,
 "nbformat_minor": 2
}
